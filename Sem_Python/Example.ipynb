{
 "cells": [
  {
   "attachments": {},
   "cell_type": "markdown",
   "metadata": {},
   "source": [
    "# Задача 1"
   ]
  },
  {
   "cell_type": "code",
   "execution_count": 1,
   "metadata": {},
   "outputs": [],
   "source": [
    "dict1 = {'One': 1,'Two': 2,'Three': 3}\n",
    "dict2 = {'Four': 4,'Five': 5,'Six': 6}"
   ]
  },
  {
   "cell_type": "code",
   "execution_count": 2,
   "metadata": {},
   "outputs": [
    {
     "data": {
      "text/plain": [
       "{'One': 1, 'Two': 2, 'Three': 3, 'Four': 4, 'Five': 5, 'Six': 6}"
      ]
     },
     "execution_count": 2,
     "metadata": {},
     "output_type": "execute_result"
    }
   ],
   "source": [
    "dict1.update(dict2)\n",
    "dict1"
   ]
  },
  {
   "attachments": {},
   "cell_type": "markdown",
   "metadata": {},
   "source": [
    "## Напишите функцию которая на вход принимает два словаря и возвращает один объединенный словарь\n",
    "Используйте аннотирование типов"
   ]
  },
  {
   "cell_type": "code",
   "execution_count": 3,
   "metadata": {},
   "outputs": [
    {
     "data": {
      "text/plain": [
       "{'One': 1, 'Two': 2, 'Three': 3, 'Four': 4, 'Five': 5, 'Six': 6}"
      ]
     },
     "execution_count": 3,
     "metadata": {},
     "output_type": "execute_result"
    }
   ],
   "source": [
    "def merge_dicts(dict1,dict2):\n",
    "    dict1.update(dict2)\n",
    "    return dict1\n",
    "\n",
    "merge_dicts(dict1,dict2)    "
   ]
  },
  {
   "cell_type": "code",
   "execution_count": 6,
   "metadata": {},
   "outputs": [],
   "source": [
    "keys = ['One', 'Two', 'Three']\n",
    "values = [1,2,3]"
   ]
  },
  {
   "cell_type": "code",
   "execution_count": 8,
   "metadata": {},
   "outputs": [
    {
     "data": {
      "text/plain": [
       "{'One': 1, 'Two': 2, 'Three': 3}"
      ]
     },
     "execution_count": 8,
     "metadata": {},
     "output_type": "execute_result"
    }
   ],
   "source": [
    "def get_dict(keys: list, values: list) -> dict:\n",
    "    res_dict = {}\n",
    "    for i in range(len(keys)):\n",
    "        res_dict.update({keys[i]: values[i]})\n",
    "    return res_dict\n",
    "\n",
    "get_dict(keys, values)    "
   ]
  },
  {
   "cell_type": "code",
   "execution_count": 9,
   "metadata": {},
   "outputs": [
    {
     "data": {
      "text/plain": [
       "{'One': 1, 'Two': 2, 'Three': 3}"
      ]
     },
     "execution_count": 9,
     "metadata": {},
     "output_type": "execute_result"
    }
   ],
   "source": [
    "def get_dict(keys: list, values: list) -> dict:\n",
    "    return {keys[i]: values[i] for i in range(len(keys))}\n",
    "get_dict(keys, values) "
   ]
  },
  {
   "cell_type": "code",
   "execution_count": 10,
   "metadata": {},
   "outputs": [],
   "source": [
    "client_dict={\n",
    "    \"name\":\"John\",\n",
    "    \"age\":25,\n",
    "    \"salary\": 5000,\n",
    "    \"city\":\"Moscow\"\n",
    "}"
   ]
  },
  {
   "cell_type": "code",
   "execution_count": 11,
   "metadata": {},
   "outputs": [],
   "source": [
    "keys=['name','age']"
   ]
  },
  {
   "cell_type": "code",
   "execution_count": 13,
   "metadata": {},
   "outputs": [
    {
     "data": {
      "text/plain": [
       "{'name': 'John', 'age': 25}"
      ]
     },
     "execution_count": 13,
     "metadata": {},
     "output_type": "execute_result"
    }
   ],
   "source": [
    "def get_keys(base_dict: dict, keys: list=['name','age']) -> dict:\n",
    "    res={}\n",
    "    for i in keys:\n",
    "        res.update({i: base_dict[i]})\n",
    "    return res\n",
    "\n",
    "get_keys(client_dict)"
   ]
  },
  {
   "cell_type": "code",
   "execution_count": 14,
   "metadata": {},
   "outputs": [
    {
     "data": {
      "text/plain": [
       "{'name': 'John', 'age': 25}"
      ]
     },
     "execution_count": 14,
     "metadata": {},
     "output_type": "execute_result"
    }
   ],
   "source": [
    "def get_keys(base_dict: dict, keys: list=['name','age']) -> dict:\n",
    "    return {i: base_dict[i] for i in keys}\n",
    "get_keys(client_dict)"
   ]
  },
  {
   "cell_type": "code",
   "execution_count": 15,
   "metadata": {},
   "outputs": [
    {
     "data": {
      "text/plain": [
       "{'name': 'John', 'age': 25}"
      ]
     },
     "execution_count": 15,
     "metadata": {},
     "output_type": "execute_result"
    }
   ],
   "source": [
    "new_dict = {i: client_dict[i] for i in keys}\n",
    "new_dict"
   ]
  },
  {
   "attachments": {},
   "cell_type": "markdown",
   "metadata": {},
   "source": [
    "<img src='https://i.ytimg.com/vi/vJUE-pKaU6M/maxresdefault.jpg' width=500>"
   ]
  },
  {
   "attachments": {},
   "cell_type": "markdown",
   "metadata": {},
   "source": [
    "<table>\n",
    "    <tr>\n",
    "        <td> </td>\n",
    "        <td> До события </td>\n",
    "        <td> Во время события</td>\n",
    "    </tr>\n",
    "    <tr>\n",
    "        <td> 1 контрольная точка </td>\n",
    "        <td> 250 </td>\n",
    "        <td> 500 </td>\n",
    "    </tr>\n",
    "    <tr>\n",
    "        <td> 2 контрольная точка </td>\n",
    "        <td> 350 </td>\n",
    "        <td> 700 </td>\n",
    "    </tr>\n",
    "    <tr>\n",
    "        <td> 3 контрольная точка </td>\n",
    "        <td> 400 </td>\n",
    "        <td> 800 </td>\n",
    "    </tr>\n",
    "    <tr>\n",
    "        <td><b>Итого за победу </b></td>\n",
    "        <td> 1000 </td>\n",
    "        <td> 2000 </td>\n",
    "    </tr>\n",
    "</table>  "
   ]
  },
  {
   "cell_type": "code",
   "execution_count": 16,
   "metadata": {},
   "outputs": [
    {
     "data": {
      "text/plain": [
       "{'sum': 55, 'avg': 5.5}"
      ]
     },
     "execution_count": 16,
     "metadata": {},
     "output_type": "execute_result"
    }
   ],
   "source": [
    "def calc(*args):\n",
    "    return {\n",
    "        'sum': sum(args),\n",
    "        'avg': sum(args) / len(args)\n",
    "    }\n",
    "calc(1,2,3,4,5,6,7,8,9,10)"
   ]
  },
  {
   "cell_type": "code",
   "execution_count": 40,
   "metadata": {},
   "outputs": [
    {
     "data": {
      "text/plain": [
       "[29, 47, 48, 16, 24]"
      ]
     },
     "execution_count": 40,
     "metadata": {},
     "output_type": "execute_result"
    }
   ],
   "source": [
    "import random\n",
    "random.seed(8)\n",
    "numbers = [random.randint(0,100) for i in range(5)]\n",
    "numbers"
   ]
  },
  {
   "cell_type": "code",
   "execution_count": 42,
   "metadata": {},
   "outputs": [],
   "source": [
    "import time\n",
    "\n",
    "def elapsed_since(data):\n",
    "    last_time = None\n",
    "    for i in data:\n",
    "        current_time = time.time()\n",
    "\n",
    "        if last_time:\n",
    "            delta = current_time - last_time\n",
    "        else:\n",
    "            delta = current_time - current_time\n",
    "\n",
    "        last_time = time.time()\n",
    "        yield (int(delta), i)"
   ]
  },
  {
   "cell_type": "code",
   "execution_count": 44,
   "metadata": {},
   "outputs": [
    {
     "name": "stdout",
     "output_type": "stream",
     "text": [
      "(0, 29)\n",
      "(2, 47)\n",
      "(2, 48)\n",
      "(2, 16)\n",
      "(2, 24)\n"
     ]
    }
   ],
   "source": [
    "for i in elapsed_since(numbers):\n",
    "    print(i)\n",
    "    time.sleep(2)"
   ]
  }
 ],
 "metadata": {
  "kernelspec": {
   "display_name": "Python 3",
   "language": "python",
   "name": "python3"
  },
  "language_info": {
   "codemirror_mode": {
    "name": "ipython",
    "version": 3
   },
   "file_extension": ".py",
   "mimetype": "text/x-python",
   "name": "python",
   "nbconvert_exporter": "python",
   "pygments_lexer": "ipython3",
   "version": "3.11.1"
  },
  "orig_nbformat": 4,
  "vscode": {
   "interpreter": {
    "hash": "ff839e904643f00666b0255e439778f5305e58e4633b50c350e2fcdba1315bf4"
   }
  }
 },
 "nbformat": 4,
 "nbformat_minor": 2
}
